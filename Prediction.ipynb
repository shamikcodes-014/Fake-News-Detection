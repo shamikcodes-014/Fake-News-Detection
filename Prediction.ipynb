{
 "cells": [
  {
   "cell_type": "code",
   "execution_count": 1,
   "id": "5d0a378c",
   "metadata": {},
   "outputs": [],
   "source": [
    "import pandas as pd\n",
    "import numpy as np"
   ]
  },
  {
   "cell_type": "code",
   "execution_count": 2,
   "id": "4e857930",
   "metadata": {},
   "outputs": [],
   "source": [
    "#Reading the datasets\n",
    "df_fake=pd.read_csv('Fake.csv')\n",
    "df_real=pd.read_csv('True.csv')"
   ]
  },
  {
   "cell_type": "code",
   "execution_count": 3,
   "id": "b2ecc0b8",
   "metadata": {},
   "outputs": [
    {
     "data": {
      "text/plain": [
       "<bound method NDFrame.head of                                                    title  \\\n",
       "0       Donald Trump Sends Out Embarrassing New Year’...   \n",
       "1       Drunk Bragging Trump Staffer Started Russian ...   \n",
       "2       Sheriff David Clarke Becomes An Internet Joke...   \n",
       "3       Trump Is So Obsessed He Even Has Obama’s Name...   \n",
       "4       Pope Francis Just Called Out Donald Trump Dur...   \n",
       "...                                                  ...   \n",
       "23476  McPain: John McCain Furious That Iran Treated ...   \n",
       "23477  JUSTICE? Yahoo Settles E-mail Privacy Class-ac...   \n",
       "23478  Sunnistan: US and Allied ‘Safe Zone’ Plan to T...   \n",
       "23479  How to Blow $700 Million: Al Jazeera America F...   \n",
       "23480  10 U.S. Navy Sailors Held by Iranian Military ...   \n",
       "\n",
       "                                                    text      subject  \\\n",
       "0      Donald Trump just couldn t wish all Americans ...         News   \n",
       "1      House Intelligence Committee Chairman Devin Nu...         News   \n",
       "2      On Friday, it was revealed that former Milwauk...         News   \n",
       "3      On Christmas day, Donald Trump announced that ...         News   \n",
       "4      Pope Francis used his annual Christmas Day mes...         News   \n",
       "...                                                  ...          ...   \n",
       "23476  21st Century Wire says As 21WIRE reported earl...  Middle-east   \n",
       "23477  21st Century Wire says It s a familiar theme. ...  Middle-east   \n",
       "23478  Patrick Henningsen  21st Century WireRemember ...  Middle-east   \n",
       "23479  21st Century Wire says Al Jazeera America will...  Middle-east   \n",
       "23480  21st Century Wire says As 21WIRE predicted in ...  Middle-east   \n",
       "\n",
       "                    date  \n",
       "0      December 31, 2017  \n",
       "1      December 31, 2017  \n",
       "2      December 30, 2017  \n",
       "3      December 29, 2017  \n",
       "4      December 25, 2017  \n",
       "...                  ...  \n",
       "23476   January 16, 2016  \n",
       "23477   January 16, 2016  \n",
       "23478   January 15, 2016  \n",
       "23479   January 14, 2016  \n",
       "23480   January 12, 2016  \n",
       "\n",
       "[23481 rows x 4 columns]>"
      ]
     },
     "execution_count": 3,
     "metadata": {},
     "output_type": "execute_result"
    }
   ],
   "source": [
    "df_fake.head"
   ]
  },
  {
   "cell_type": "code",
   "execution_count": 4,
   "id": "99159ad3",
   "metadata": {},
   "outputs": [
    {
     "data": {
      "text/plain": [
       "(23481, 4)"
      ]
     },
     "execution_count": 4,
     "metadata": {},
     "output_type": "execute_result"
    }
   ],
   "source": [
    "df_fake.shape"
   ]
  },
  {
   "cell_type": "code",
   "execution_count": 5,
   "id": "997eb46d",
   "metadata": {},
   "outputs": [
    {
     "data": {
      "text/plain": [
       "<bound method NDFrame.head of                                                    title  \\\n",
       "0      As U.S. budget fight looms, Republicans flip t...   \n",
       "1      U.S. military to accept transgender recruits o...   \n",
       "2      Senior U.S. Republican senator: 'Let Mr. Muell...   \n",
       "3      FBI Russia probe helped by Australian diplomat...   \n",
       "4      Trump wants Postal Service to charge 'much mor...   \n",
       "...                                                  ...   \n",
       "21412  'Fully committed' NATO backs new U.S. approach...   \n",
       "21413  LexisNexis withdrew two products from Chinese ...   \n",
       "21414  Minsk cultural hub becomes haven from authorities   \n",
       "21415  Vatican upbeat on possibility of Pope Francis ...   \n",
       "21416  Indonesia to buy $1.14 billion worth of Russia...   \n",
       "\n",
       "                                                    text       subject  \\\n",
       "0      WASHINGTON (Reuters) - The head of a conservat...  politicsNews   \n",
       "1      WASHINGTON (Reuters) - Transgender people will...  politicsNews   \n",
       "2      WASHINGTON (Reuters) - The special counsel inv...  politicsNews   \n",
       "3      WASHINGTON (Reuters) - Trump campaign adviser ...  politicsNews   \n",
       "4      SEATTLE/WASHINGTON (Reuters) - President Donal...  politicsNews   \n",
       "...                                                  ...           ...   \n",
       "21412  BRUSSELS (Reuters) - NATO allies on Tuesday we...     worldnews   \n",
       "21413  LONDON (Reuters) - LexisNexis, a provider of l...     worldnews   \n",
       "21414  MINSK (Reuters) - In the shadow of disused Sov...     worldnews   \n",
       "21415  MOSCOW (Reuters) - Vatican Secretary of State ...     worldnews   \n",
       "21416  JAKARTA (Reuters) - Indonesia will buy 11 Sukh...     worldnews   \n",
       "\n",
       "                     date  \n",
       "0      December 31, 2017   \n",
       "1      December 29, 2017   \n",
       "2      December 31, 2017   \n",
       "3      December 30, 2017   \n",
       "4      December 29, 2017   \n",
       "...                   ...  \n",
       "21412    August 22, 2017   \n",
       "21413    August 22, 2017   \n",
       "21414    August 22, 2017   \n",
       "21415    August 22, 2017   \n",
       "21416    August 22, 2017   \n",
       "\n",
       "[21417 rows x 4 columns]>"
      ]
     },
     "execution_count": 5,
     "metadata": {},
     "output_type": "execute_result"
    }
   ],
   "source": [
    "df_real.head"
   ]
  },
  {
   "cell_type": "code",
   "execution_count": 6,
   "id": "453dd823",
   "metadata": {},
   "outputs": [
    {
     "data": {
      "text/plain": [
       "(21417, 4)"
      ]
     },
     "execution_count": 6,
     "metadata": {},
     "output_type": "execute_result"
    }
   ],
   "source": [
    "df_real.shape"
   ]
  },
  {
   "cell_type": "code",
   "execution_count": 7,
   "id": "2f1c8161",
   "metadata": {},
   "outputs": [],
   "source": [
    "#Reshaping data\n",
    "df_fake['label'] = 0"
   ]
  },
  {
   "cell_type": "code",
   "execution_count": 8,
   "id": "2976ff2e",
   "metadata": {},
   "outputs": [
    {
     "data": {
      "text/plain": [
       "<bound method NDFrame.head of                                                    title  \\\n",
       "0       Donald Trump Sends Out Embarrassing New Year’...   \n",
       "1       Drunk Bragging Trump Staffer Started Russian ...   \n",
       "2       Sheriff David Clarke Becomes An Internet Joke...   \n",
       "3       Trump Is So Obsessed He Even Has Obama’s Name...   \n",
       "4       Pope Francis Just Called Out Donald Trump Dur...   \n",
       "...                                                  ...   \n",
       "23476  McPain: John McCain Furious That Iran Treated ...   \n",
       "23477  JUSTICE? Yahoo Settles E-mail Privacy Class-ac...   \n",
       "23478  Sunnistan: US and Allied ‘Safe Zone’ Plan to T...   \n",
       "23479  How to Blow $700 Million: Al Jazeera America F...   \n",
       "23480  10 U.S. Navy Sailors Held by Iranian Military ...   \n",
       "\n",
       "                                                    text      subject  \\\n",
       "0      Donald Trump just couldn t wish all Americans ...         News   \n",
       "1      House Intelligence Committee Chairman Devin Nu...         News   \n",
       "2      On Friday, it was revealed that former Milwauk...         News   \n",
       "3      On Christmas day, Donald Trump announced that ...         News   \n",
       "4      Pope Francis used his annual Christmas Day mes...         News   \n",
       "...                                                  ...          ...   \n",
       "23476  21st Century Wire says As 21WIRE reported earl...  Middle-east   \n",
       "23477  21st Century Wire says It s a familiar theme. ...  Middle-east   \n",
       "23478  Patrick Henningsen  21st Century WireRemember ...  Middle-east   \n",
       "23479  21st Century Wire says Al Jazeera America will...  Middle-east   \n",
       "23480  21st Century Wire says As 21WIRE predicted in ...  Middle-east   \n",
       "\n",
       "                    date  label  \n",
       "0      December 31, 2017      0  \n",
       "1      December 31, 2017      0  \n",
       "2      December 30, 2017      0  \n",
       "3      December 29, 2017      0  \n",
       "4      December 25, 2017      0  \n",
       "...                  ...    ...  \n",
       "23476   January 16, 2016      0  \n",
       "23477   January 16, 2016      0  \n",
       "23478   January 15, 2016      0  \n",
       "23479   January 14, 2016      0  \n",
       "23480   January 12, 2016      0  \n",
       "\n",
       "[23481 rows x 5 columns]>"
      ]
     },
     "execution_count": 8,
     "metadata": {},
     "output_type": "execute_result"
    }
   ],
   "source": [
    "df_fake.head"
   ]
  },
  {
   "cell_type": "code",
   "execution_count": 9,
   "id": "e2ce42c6",
   "metadata": {},
   "outputs": [],
   "source": [
    "df_real['label']=1"
   ]
  },
  {
   "cell_type": "code",
   "execution_count": 10,
   "id": "dacb9f17",
   "metadata": {},
   "outputs": [
    {
     "data": {
      "text/plain": [
       "<bound method NDFrame.head of                                                    title  \\\n",
       "0      As U.S. budget fight looms, Republicans flip t...   \n",
       "1      U.S. military to accept transgender recruits o...   \n",
       "2      Senior U.S. Republican senator: 'Let Mr. Muell...   \n",
       "3      FBI Russia probe helped by Australian diplomat...   \n",
       "4      Trump wants Postal Service to charge 'much mor...   \n",
       "...                                                  ...   \n",
       "21412  'Fully committed' NATO backs new U.S. approach...   \n",
       "21413  LexisNexis withdrew two products from Chinese ...   \n",
       "21414  Minsk cultural hub becomes haven from authorities   \n",
       "21415  Vatican upbeat on possibility of Pope Francis ...   \n",
       "21416  Indonesia to buy $1.14 billion worth of Russia...   \n",
       "\n",
       "                                                    text       subject  \\\n",
       "0      WASHINGTON (Reuters) - The head of a conservat...  politicsNews   \n",
       "1      WASHINGTON (Reuters) - Transgender people will...  politicsNews   \n",
       "2      WASHINGTON (Reuters) - The special counsel inv...  politicsNews   \n",
       "3      WASHINGTON (Reuters) - Trump campaign adviser ...  politicsNews   \n",
       "4      SEATTLE/WASHINGTON (Reuters) - President Donal...  politicsNews   \n",
       "...                                                  ...           ...   \n",
       "21412  BRUSSELS (Reuters) - NATO allies on Tuesday we...     worldnews   \n",
       "21413  LONDON (Reuters) - LexisNexis, a provider of l...     worldnews   \n",
       "21414  MINSK (Reuters) - In the shadow of disused Sov...     worldnews   \n",
       "21415  MOSCOW (Reuters) - Vatican Secretary of State ...     worldnews   \n",
       "21416  JAKARTA (Reuters) - Indonesia will buy 11 Sukh...     worldnews   \n",
       "\n",
       "                     date  label  \n",
       "0      December 31, 2017       1  \n",
       "1      December 29, 2017       1  \n",
       "2      December 31, 2017       1  \n",
       "3      December 30, 2017       1  \n",
       "4      December 29, 2017       1  \n",
       "...                   ...    ...  \n",
       "21412    August 22, 2017       1  \n",
       "21413    August 22, 2017       1  \n",
       "21414    August 22, 2017       1  \n",
       "21415    August 22, 2017       1  \n",
       "21416    August 22, 2017       1  \n",
       "\n",
       "[21417 rows x 5 columns]>"
      ]
     },
     "execution_count": 10,
     "metadata": {},
     "output_type": "execute_result"
    }
   ],
   "source": [
    "df_real.head"
   ]
  },
  {
   "cell_type": "code",
   "execution_count": 11,
   "id": "0c3860d7",
   "metadata": {},
   "outputs": [],
   "source": [
    "#Concatinating the two datasets into one\n",
    "df_complete_csv=pd.concat([df_fake, df_real],axis=0)"
   ]
  },
  {
   "cell_type": "code",
   "execution_count": 12,
   "id": "5d6354d2",
   "metadata": {},
   "outputs": [
    {
     "data": {
      "text/plain": [
       "title      0\n",
       "text       0\n",
       "subject    0\n",
       "date       0\n",
       "label      0\n",
       "dtype: int64"
      ]
     },
     "execution_count": 12,
     "metadata": {},
     "output_type": "execute_result"
    }
   ],
   "source": [
    "#Checking for null values\n",
    "df_complete_csv.isnull().sum()"
   ]
  },
  {
   "cell_type": "code",
   "execution_count": 13,
   "id": "bcc861aa",
   "metadata": {},
   "outputs": [
    {
     "data": {
      "text/plain": [
       "(44898, 5)"
      ]
     },
     "execution_count": 13,
     "metadata": {},
     "output_type": "execute_result"
    }
   ],
   "source": [
    "df_complete_csv.shape"
   ]
  },
  {
   "cell_type": "code",
   "execution_count": 14,
   "id": "14c6c87f",
   "metadata": {},
   "outputs": [],
   "source": [
    "df_complete_csv=df_complete_csv.sample(frac=1)"
   ]
  },
  {
   "cell_type": "code",
   "execution_count": 15,
   "id": "11cb3fed",
   "metadata": {},
   "outputs": [
    {
     "data": {
      "text/html": [
       "<div>\n",
       "<style scoped>\n",
       "    .dataframe tbody tr th:only-of-type {\n",
       "        vertical-align: middle;\n",
       "    }\n",
       "\n",
       "    .dataframe tbody tr th {\n",
       "        vertical-align: top;\n",
       "    }\n",
       "\n",
       "    .dataframe thead th {\n",
       "        text-align: right;\n",
       "    }\n",
       "</style>\n",
       "<table border=\"1\" class=\"dataframe\">\n",
       "  <thead>\n",
       "    <tr style=\"text-align: right;\">\n",
       "      <th></th>\n",
       "      <th>title</th>\n",
       "      <th>text</th>\n",
       "      <th>subject</th>\n",
       "      <th>date</th>\n",
       "      <th>label</th>\n",
       "    </tr>\n",
       "  </thead>\n",
       "  <tbody>\n",
       "    <tr>\n",
       "      <th>15055</th>\n",
       "      <td>Iran rejects Macron call for talks on Iranian ...</td>\n",
       "      <td>DUBAI (Reuters) - Iran rejected on Sunday a ca...</td>\n",
       "      <td>worldnews</td>\n",
       "      <td>November 12, 2017</td>\n",
       "      <td>1</td>\n",
       "    </tr>\n",
       "    <tr>\n",
       "      <th>11545</th>\n",
       "      <td>BUSTED! OHIO ATTORNEY GENERAL DISCOVERS ILLEGA...</td>\n",
       "      <td>Ohio Secretary of State Jon Husted announced a...</td>\n",
       "      <td>politics</td>\n",
       "      <td>Feb 28, 2017</td>\n",
       "      <td>0</td>\n",
       "    </tr>\n",
       "    <tr>\n",
       "      <th>14737</th>\n",
       "      <td>Senior official in US-backed Syria forces defe...</td>\n",
       "      <td>AMMAN (Reuters) - A senior commander defected ...</td>\n",
       "      <td>worldnews</td>\n",
       "      <td>November 15, 2017</td>\n",
       "      <td>1</td>\n",
       "    </tr>\n",
       "    <tr>\n",
       "      <th>12618</th>\n",
       "      <td>U.S. agency to help Iraq recover from IS despi...</td>\n",
       "      <td>BAGHDAD (Reuters) - The United States is commi...</td>\n",
       "      <td>worldnews</td>\n",
       "      <td>December 10, 2017</td>\n",
       "      <td>1</td>\n",
       "    </tr>\n",
       "    <tr>\n",
       "      <th>23191</th>\n",
       "      <td>Boiler Room EP #82 – Mind-boggling Collusion</td>\n",
       "      <td>Tune in to the Alternate Current Radio Network...</td>\n",
       "      <td>Middle-east</td>\n",
       "      <td>November 3, 2016</td>\n",
       "      <td>0</td>\n",
       "    </tr>\n",
       "    <tr>\n",
       "      <th>12014</th>\n",
       "      <td>Merkel wants outline coalition deal with SPD b...</td>\n",
       "      <td>BERLIN (Reuters) - Chancellor Angela Merkel sa...</td>\n",
       "      <td>worldnews</td>\n",
       "      <td>December 18, 2017</td>\n",
       "      <td>1</td>\n",
       "    </tr>\n",
       "    <tr>\n",
       "      <th>6361</th>\n",
       "      <td>Rush Limbaugh: Legalize Rape By Calling It A ...</td>\n",
       "      <td>During his radio show on Friday, Rush Limbaugh...</td>\n",
       "      <td>News</td>\n",
       "      <td>May 15, 2016</td>\n",
       "      <td>0</td>\n",
       "    </tr>\n",
       "    <tr>\n",
       "      <th>2707</th>\n",
       "      <td>U.S. House panel to consider self-driving car ...</td>\n",
       "      <td>WASHINGTON (Reuters) - A U.S. House subcommitt...</td>\n",
       "      <td>politicsNews</td>\n",
       "      <td>July 18, 2017</td>\n",
       "      <td>1</td>\n",
       "    </tr>\n",
       "    <tr>\n",
       "      <th>18551</th>\n",
       "      <td>RADICAL, INTOLERANT Students Held College Admi...</td>\n",
       "      <td>Video from inside Evergreen State College cont...</td>\n",
       "      <td>left-news</td>\n",
       "      <td>Jun 2, 2017</td>\n",
       "      <td>0</td>\n",
       "    </tr>\n",
       "    <tr>\n",
       "      <th>15794</th>\n",
       "      <td>HE WAS WARNED AGAINST NEGOTIATING WITH TERRORI...</td>\n",
       "      <td>Iran, where the thought police will always hav...</td>\n",
       "      <td>politics</td>\n",
       "      <td>Apr 23, 2015</td>\n",
       "      <td>0</td>\n",
       "    </tr>\n",
       "    <tr>\n",
       "      <th>15314</th>\n",
       "      <td>(VIDEO) DEMOCRATS FRUSTRATED BY CLINTON JOKING...</td>\n",
       "      <td>The liberal pundits are pretty frustrated by t...</td>\n",
       "      <td>politics</td>\n",
       "      <td>Aug 17, 2015</td>\n",
       "      <td>0</td>\n",
       "    </tr>\n",
       "    <tr>\n",
       "      <th>3563</th>\n",
       "      <td>Trump shoves fellow NATO leader aside on his f...</td>\n",
       "      <td>BRUSSELS (Reuters) - U.S. President Donald Tru...</td>\n",
       "      <td>politicsNews</td>\n",
       "      <td>May 25, 2017</td>\n",
       "      <td>1</td>\n",
       "    </tr>\n",
       "    <tr>\n",
       "      <th>13788</th>\n",
       "      <td>Ousted Hong Kong lawmakers ordered to pay heft...</td>\n",
       "      <td>HONG KONG (Reuters) - Four Hong Kong pro-democ...</td>\n",
       "      <td>worldnews</td>\n",
       "      <td>November 27, 2017</td>\n",
       "      <td>1</td>\n",
       "    </tr>\n",
       "    <tr>\n",
       "      <th>10384</th>\n",
       "      <td>WOW! Do Anti-Trump Protesters REALLY Know What...</td>\n",
       "      <td>Wow! Talk about clueless! Austen Fletcher appr...</td>\n",
       "      <td>politics</td>\n",
       "      <td>Jul 17, 2017</td>\n",
       "      <td>0</td>\n",
       "    </tr>\n",
       "    <tr>\n",
       "      <th>2996</th>\n",
       "      <td>Trump Finally Watched Alec Baldwin Mock His R...</td>\n",
       "      <td>It took Donald Trump all day, but he apparentl...</td>\n",
       "      <td>News</td>\n",
       "      <td>January 15, 2017</td>\n",
       "      <td>0</td>\n",
       "    </tr>\n",
       "    <tr>\n",
       "      <th>7802</th>\n",
       "      <td>Ted Cruz Gets OWNED By Fox Host For Whining A...</td>\n",
       "      <td>Ted Cruz just got his ass handed to him by a F...</td>\n",
       "      <td>News</td>\n",
       "      <td>February 28, 2016</td>\n",
       "      <td>0</td>\n",
       "    </tr>\n",
       "    <tr>\n",
       "      <th>12179</th>\n",
       "      <td>MEGYN KELLY Reportedly Not Very Popular With F...</td>\n",
       "      <td>Everybody in the building is sick of it. We a...</td>\n",
       "      <td>politics</td>\n",
       "      <td>Dec 9, 2016</td>\n",
       "      <td>0</td>\n",
       "    </tr>\n",
       "    <tr>\n",
       "      <th>8676</th>\n",
       "      <td>Guess What UK Political Leaders Really Think ...</td>\n",
       "      <td>The British Parliament conducted what can only...</td>\n",
       "      <td>News</td>\n",
       "      <td>January 18, 2016</td>\n",
       "      <td>0</td>\n",
       "    </tr>\n",
       "    <tr>\n",
       "      <th>22995</th>\n",
       "      <td>FAKE NEWS WEEK: Truth, War Propaganda, CIA and...</td>\n",
       "      <td>In response to the establishment media s cont...</td>\n",
       "      <td>Middle-east</td>\n",
       "      <td>February 14, 2017</td>\n",
       "      <td>0</td>\n",
       "    </tr>\n",
       "    <tr>\n",
       "      <th>494</th>\n",
       "      <td>Republican Senator Collins says talks on tax b...</td>\n",
       "      <td>WASHINGTON (Reuters) - Republican U.S. Senator...</td>\n",
       "      <td>politicsNews</td>\n",
       "      <td>November 28, 2017</td>\n",
       "      <td>1</td>\n",
       "    </tr>\n",
       "  </tbody>\n",
       "</table>\n",
       "</div>"
      ],
      "text/plain": [
       "                                                   title  \\\n",
       "15055  Iran rejects Macron call for talks on Iranian ...   \n",
       "11545  BUSTED! OHIO ATTORNEY GENERAL DISCOVERS ILLEGA...   \n",
       "14737  Senior official in US-backed Syria forces defe...   \n",
       "12618  U.S. agency to help Iraq recover from IS despi...   \n",
       "23191       Boiler Room EP #82 – Mind-boggling Collusion   \n",
       "12014  Merkel wants outline coalition deal with SPD b...   \n",
       "6361    Rush Limbaugh: Legalize Rape By Calling It A ...   \n",
       "2707   U.S. House panel to consider self-driving car ...   \n",
       "18551  RADICAL, INTOLERANT Students Held College Admi...   \n",
       "15794  HE WAS WARNED AGAINST NEGOTIATING WITH TERRORI...   \n",
       "15314  (VIDEO) DEMOCRATS FRUSTRATED BY CLINTON JOKING...   \n",
       "3563   Trump shoves fellow NATO leader aside on his f...   \n",
       "13788  Ousted Hong Kong lawmakers ordered to pay heft...   \n",
       "10384  WOW! Do Anti-Trump Protesters REALLY Know What...   \n",
       "2996    Trump Finally Watched Alec Baldwin Mock His R...   \n",
       "7802    Ted Cruz Gets OWNED By Fox Host For Whining A...   \n",
       "12179  MEGYN KELLY Reportedly Not Very Popular With F...   \n",
       "8676    Guess What UK Political Leaders Really Think ...   \n",
       "22995  FAKE NEWS WEEK: Truth, War Propaganda, CIA and...   \n",
       "494    Republican Senator Collins says talks on tax b...   \n",
       "\n",
       "                                                    text       subject  \\\n",
       "15055  DUBAI (Reuters) - Iran rejected on Sunday a ca...     worldnews   \n",
       "11545  Ohio Secretary of State Jon Husted announced a...      politics   \n",
       "14737  AMMAN (Reuters) - A senior commander defected ...     worldnews   \n",
       "12618  BAGHDAD (Reuters) - The United States is commi...     worldnews   \n",
       "23191  Tune in to the Alternate Current Radio Network...   Middle-east   \n",
       "12014  BERLIN (Reuters) - Chancellor Angela Merkel sa...     worldnews   \n",
       "6361   During his radio show on Friday, Rush Limbaugh...          News   \n",
       "2707   WASHINGTON (Reuters) - A U.S. House subcommitt...  politicsNews   \n",
       "18551  Video from inside Evergreen State College cont...     left-news   \n",
       "15794  Iran, where the thought police will always hav...      politics   \n",
       "15314  The liberal pundits are pretty frustrated by t...      politics   \n",
       "3563   BRUSSELS (Reuters) - U.S. President Donald Tru...  politicsNews   \n",
       "13788  HONG KONG (Reuters) - Four Hong Kong pro-democ...     worldnews   \n",
       "10384  Wow! Talk about clueless! Austen Fletcher appr...      politics   \n",
       "2996   It took Donald Trump all day, but he apparentl...          News   \n",
       "7802   Ted Cruz just got his ass handed to him by a F...          News   \n",
       "12179   Everybody in the building is sick of it. We a...      politics   \n",
       "8676   The British Parliament conducted what can only...          News   \n",
       "22995   In response to the establishment media s cont...   Middle-east   \n",
       "494    WASHINGTON (Reuters) - Republican U.S. Senator...  politicsNews   \n",
       "\n",
       "                     date  label  \n",
       "15055  November 12, 2017       1  \n",
       "11545        Feb 28, 2017      0  \n",
       "14737  November 15, 2017       1  \n",
       "12618  December 10, 2017       1  \n",
       "23191    November 3, 2016      0  \n",
       "12014  December 18, 2017       1  \n",
       "6361         May 15, 2016      0  \n",
       "2707       July 18, 2017       1  \n",
       "18551         Jun 2, 2017      0  \n",
       "15794        Apr 23, 2015      0  \n",
       "15314        Aug 17, 2015      0  \n",
       "3563        May 25, 2017       1  \n",
       "13788  November 27, 2017       1  \n",
       "10384        Jul 17, 2017      0  \n",
       "2996     January 15, 2017      0  \n",
       "7802    February 28, 2016      0  \n",
       "12179         Dec 9, 2016      0  \n",
       "8676     January 18, 2016      0  \n",
       "22995   February 14, 2017      0  \n",
       "494    November 28, 2017       1  "
      ]
     },
     "execution_count": 15,
     "metadata": {},
     "output_type": "execute_result"
    }
   ],
   "source": [
    "df_complete_csv.head(20)"
   ]
  },
  {
   "cell_type": "code",
   "execution_count": 16,
   "id": "e1d43a15",
   "metadata": {},
   "outputs": [
    {
     "data": {
      "text/plain": [
       "<bound method NDFrame.head of                                                    title  \\\n",
       "15055  Iran rejects Macron call for talks on Iranian ...   \n",
       "11545  BUSTED! OHIO ATTORNEY GENERAL DISCOVERS ILLEGA...   \n",
       "14737  Senior official in US-backed Syria forces defe...   \n",
       "12618  U.S. agency to help Iraq recover from IS despi...   \n",
       "23191       Boiler Room EP #82 – Mind-boggling Collusion   \n",
       "...                                                  ...   \n",
       "14489  EMAILS SHOW OBAMA’S EPA Planned To Let Flint R...   \n",
       "14291  WOW! CHICAGO PROTESTER Caught On Camera Admits...   \n",
       "16045  German FDP leader presses Greens to compromise...   \n",
       "23357  Henningsen on White House Press Dinner: ‘The F...   \n",
       "18139  CRAZED PROTESTERS Pull Down Confederate Statue...   \n",
       "\n",
       "                                                    text      subject  \\\n",
       "15055  DUBAI (Reuters) - Iran rejected on Sunday a ca...    worldnews   \n",
       "11545  Ohio Secretary of State Jon Husted announced a...     politics   \n",
       "14737  AMMAN (Reuters) - A senior commander defected ...    worldnews   \n",
       "12618  BAGHDAD (Reuters) - The United States is commi...    worldnews   \n",
       "23191  Tune in to the Alternate Current Radio Network...  Middle-east   \n",
       "...                                                  ...          ...   \n",
       "14489  It s fascinating that even before any facts re...     politics   \n",
       "14291  Here s proof that the violence we saw taking p...     politics   \n",
       "16045  BERLIN (Reuters) - Germany s Greens need to co...    worldnews   \n",
       "23357  21st Century Wire says  B ACTING: President Ob...  Middle-east   \n",
       "18139  Crazed lunatic fringe elements of America have...    left-news   \n",
       "\n",
       "                     date  label  \n",
       "15055  November 12, 2017       1  \n",
       "11545        Feb 28, 2017      0  \n",
       "14737  November 15, 2017       1  \n",
       "12618  December 10, 2017       1  \n",
       "23191    November 3, 2016      0  \n",
       "...                   ...    ...  \n",
       "14489        Feb 13, 2016      0  \n",
       "14291        Mar 15, 2016      0  \n",
       "16045   October 31, 2017       1  \n",
       "23357         May 6, 2016      0  \n",
       "18139        Aug 14, 2017      0  \n",
       "\n",
       "[44898 rows x 5 columns]>"
      ]
     },
     "execution_count": 16,
     "metadata": {},
     "output_type": "execute_result"
    }
   ],
   "source": [
    "df_complete_csv.head"
   ]
  },
  {
   "cell_type": "code",
   "execution_count": 17,
   "id": "bbc6b590",
   "metadata": {},
   "outputs": [],
   "source": [
    "#Creating a new csv\n",
    "df_complete_csv.to_csv('fake_and_real_news.csv')"
   ]
  },
  {
   "cell_type": "code",
   "execution_count": 18,
   "id": "79fc6b1c",
   "metadata": {},
   "outputs": [],
   "source": [
    "df=pd.read_csv('fake_and_real_news.csv')"
   ]
  },
  {
   "cell_type": "code",
   "execution_count": 19,
   "id": "37f30e28",
   "metadata": {},
   "outputs": [
    {
     "data": {
      "text/plain": [
       "<bound method NDFrame.head of        Unnamed: 0                                              title  \\\n",
       "0           15055  Iran rejects Macron call for talks on Iranian ...   \n",
       "1           11545  BUSTED! OHIO ATTORNEY GENERAL DISCOVERS ILLEGA...   \n",
       "2           14737  Senior official in US-backed Syria forces defe...   \n",
       "3           12618  U.S. agency to help Iraq recover from IS despi...   \n",
       "4           23191       Boiler Room EP #82 – Mind-boggling Collusion   \n",
       "...           ...                                                ...   \n",
       "44893       14489  EMAILS SHOW OBAMA’S EPA Planned To Let Flint R...   \n",
       "44894       14291  WOW! CHICAGO PROTESTER Caught On Camera Admits...   \n",
       "44895       16045  German FDP leader presses Greens to compromise...   \n",
       "44896       23357  Henningsen on White House Press Dinner: ‘The F...   \n",
       "44897       18139  CRAZED PROTESTERS Pull Down Confederate Statue...   \n",
       "\n",
       "                                                    text      subject  \\\n",
       "0      DUBAI (Reuters) - Iran rejected on Sunday a ca...    worldnews   \n",
       "1      Ohio Secretary of State Jon Husted announced a...     politics   \n",
       "2      AMMAN (Reuters) - A senior commander defected ...    worldnews   \n",
       "3      BAGHDAD (Reuters) - The United States is commi...    worldnews   \n",
       "4      Tune in to the Alternate Current Radio Network...  Middle-east   \n",
       "...                                                  ...          ...   \n",
       "44893  It s fascinating that even before any facts re...     politics   \n",
       "44894  Here s proof that the violence we saw taking p...     politics   \n",
       "44895  BERLIN (Reuters) - Germany s Greens need to co...    worldnews   \n",
       "44896  21st Century Wire says  B ACTING: President Ob...  Middle-east   \n",
       "44897  Crazed lunatic fringe elements of America have...    left-news   \n",
       "\n",
       "                     date  label  \n",
       "0      November 12, 2017       1  \n",
       "1            Feb 28, 2017      0  \n",
       "2      November 15, 2017       1  \n",
       "3      December 10, 2017       1  \n",
       "4        November 3, 2016      0  \n",
       "...                   ...    ...  \n",
       "44893        Feb 13, 2016      0  \n",
       "44894        Mar 15, 2016      0  \n",
       "44895   October 31, 2017       1  \n",
       "44896         May 6, 2016      0  \n",
       "44897        Aug 14, 2017      0  \n",
       "\n",
       "[44898 rows x 6 columns]>"
      ]
     },
     "execution_count": 19,
     "metadata": {},
     "output_type": "execute_result"
    }
   ],
   "source": [
    "df.head"
   ]
  },
  {
   "cell_type": "code",
   "execution_count": 20,
   "id": "7343abfb",
   "metadata": {},
   "outputs": [],
   "source": [
    "#Seperating the dataset into data\n",
    "x=df['text']"
   ]
  },
  {
   "cell_type": "code",
   "execution_count": 21,
   "id": "4517b542",
   "metadata": {},
   "outputs": [
    {
     "data": {
      "text/plain": [
       "(44898,)"
      ]
     },
     "execution_count": 21,
     "metadata": {},
     "output_type": "execute_result"
    }
   ],
   "source": [
    "x.shape"
   ]
  },
  {
   "cell_type": "code",
   "execution_count": 22,
   "id": "b35b54f7",
   "metadata": {},
   "outputs": [
    {
     "data": {
      "text/plain": [
       "0        DUBAI (Reuters) - Iran rejected on Sunday a ca...\n",
       "1        Ohio Secretary of State Jon Husted announced a...\n",
       "2        AMMAN (Reuters) - A senior commander defected ...\n",
       "3        BAGHDAD (Reuters) - The United States is commi...\n",
       "4        Tune in to the Alternate Current Radio Network...\n",
       "                               ...                        \n",
       "44893    It s fascinating that even before any facts re...\n",
       "44894    Here s proof that the violence we saw taking p...\n",
       "44895    BERLIN (Reuters) - Germany s Greens need to co...\n",
       "44896    21st Century Wire says  B ACTING: President Ob...\n",
       "44897    Crazed lunatic fringe elements of America have...\n",
       "Name: text, Length: 44898, dtype: object"
      ]
     },
     "execution_count": 22,
     "metadata": {},
     "output_type": "execute_result"
    }
   ],
   "source": [
    "x"
   ]
  },
  {
   "cell_type": "code",
   "execution_count": 23,
   "id": "78bc3564",
   "metadata": {},
   "outputs": [],
   "source": [
    "#Seperate the dataset into labels\n",
    "y=df['label']"
   ]
  },
  {
   "cell_type": "code",
   "execution_count": 24,
   "id": "20ee8c4a",
   "metadata": {},
   "outputs": [
    {
     "data": {
      "text/plain": [
       "0        1\n",
       "1        0\n",
       "2        1\n",
       "3        1\n",
       "4        0\n",
       "        ..\n",
       "44893    0\n",
       "44894    0\n",
       "44895    1\n",
       "44896    0\n",
       "44897    0\n",
       "Name: label, Length: 44898, dtype: int64"
      ]
     },
     "execution_count": 24,
     "metadata": {},
     "output_type": "execute_result"
    }
   ],
   "source": [
    "y"
   ]
  },
  {
   "cell_type": "code",
   "execution_count": 25,
   "id": "e73079dc",
   "metadata": {},
   "outputs": [
    {
     "data": {
      "text/plain": [
       "(44898, 6)"
      ]
     },
     "execution_count": 25,
     "metadata": {},
     "output_type": "execute_result"
    }
   ],
   "source": [
    "df.shape"
   ]
  },
  {
   "cell_type": "code",
   "execution_count": 26,
   "id": "bc913db6",
   "metadata": {},
   "outputs": [],
   "source": [
    "from sklearn.model_selection import train_test_split"
   ]
  },
  {
   "cell_type": "code",
   "execution_count": 27,
   "id": "a06b79d8",
   "metadata": {},
   "outputs": [],
   "source": [
    "#Importing required models, vectorizer and metrics\n",
    "from sklearn.feature_extraction.text import TfidfVectorizer\n",
    "from sklearn.linear_model import PassiveAggressiveClassifier\n",
    "from sklearn.linear_model import LogisticRegression\n",
    "from sklearn.neighbors import KNeighborsClassifier\n",
    "from sklearn.naive_bayes import GaussianNB\n",
    "from sklearn.metrics import accuracy_score, confusion_matrix, f1_score, precision_score"
   ]
  },
  {
   "cell_type": "code",
   "execution_count": 28,
   "id": "929197f8",
   "metadata": {},
   "outputs": [],
   "source": [
    "#Splitting the dataset in train and test data\n",
    "x_train,x_test,y_train,y_test=train_test_split(x,y,test_size=0.3,random_state=0)"
   ]
  },
  {
   "cell_type": "code",
   "execution_count": 29,
   "id": "e3abedc9",
   "metadata": {},
   "outputs": [
    {
     "data": {
      "text/plain": [
       "33958    WASHINGTON (Reuters) - United Nations envoy Je...\n",
       "19813    It might just be time to say Sen. Ted Cruz, in...\n",
       "25814    WASHINGTON (Reuters) - The U.S. military said ...\n",
       "18689    MSNBC s Chris Hayes has consistently proven to...\n",
       "44673    It s great to have a president who appreciates...\n",
       "                               ...                        \n",
       "30403    Being a resident of the beautiful state of Mai...\n",
       "21243    Nebraska Senator Ben Sasse seems to be fed up ...\n",
       "42613    BUDAPEST (Reuters) - Hungarian Prime Minister ...\n",
       "43567    ERBIL, Iraq (Reuters) - The parliament of Iraq...\n",
       "2732     Have you ever had an argument with a liberal w...\n",
       "Name: text, Length: 31428, dtype: object"
      ]
     },
     "execution_count": 29,
     "metadata": {},
     "output_type": "execute_result"
    }
   ],
   "source": [
    "x_train"
   ]
  },
  {
   "cell_type": "code",
   "execution_count": 30,
   "id": "775659c4",
   "metadata": {},
   "outputs": [
    {
     "data": {
      "text/plain": [
       "35305    There are conflicting reports about why the ou...\n",
       "29180    Maybe Hillary should be hiring someone to hand...\n",
       "29805    What kind of monsters teach their children to ...\n",
       "38237    DANANG, Vietnam (Reuters) - U.S. President Don...\n",
       "5099     BRUSSELS (Reuters) - European Parliament Presi...\n",
       "                               ...                        \n",
       "14185    WASHINGTON (Reuters) - The White House said on...\n",
       "40424    It s only been a few days since Donald Trump a...\n",
       "22374    LONDON (Reuters) - Britain will submit proposa...\n",
       "18638    (Reuters) - The U.S. Supreme Court on Thursday...\n",
       "18157     After we win this election, it s our turn. Pa...\n",
       "Name: text, Length: 13470, dtype: object"
      ]
     },
     "execution_count": 30,
     "metadata": {},
     "output_type": "execute_result"
    }
   ],
   "source": [
    "x_test"
   ]
  },
  {
   "cell_type": "code",
   "execution_count": 31,
   "id": "ab2941b4",
   "metadata": {},
   "outputs": [],
   "source": [
    "#TF-IDF vectors are frequency scores that try to highlight words that are frequent in a document and scores are normalized to values between 0 and 1\n",
    "\n",
    "tfvect=TfidfVectorizer(stop_words='english',max_df=0.7)"
   ]
  },
  {
   "cell_type": "code",
   "execution_count": 32,
   "id": "7213c744",
   "metadata": {},
   "outputs": [],
   "source": [
    "tfid_x_train=tfvect.fit_transform(x_train)\n",
    "tfid_x_test=tfvect.transform(x_test)"
   ]
  },
  {
   "cell_type": "code",
   "execution_count": 33,
   "id": "7e281316",
   "metadata": {},
   "outputs": [
    {
     "data": {
      "text/plain": [
       "PassiveAggressiveClassifier(max_iter=50)"
      ]
     },
     "execution_count": 33,
     "metadata": {},
     "output_type": "execute_result"
    }
   ],
   "source": [
    "#Passive-Agressive Model\n",
    "classifier=PassiveAggressiveClassifier(max_iter=50)\n",
    "classifier.fit(tfid_x_train,y_train)"
   ]
  },
  {
   "cell_type": "code",
   "execution_count": 34,
   "id": "7edd588d",
   "metadata": {},
   "outputs": [
    {
     "name": "stdout",
     "output_type": "stream",
     "text": [
      "Accuracy: 99.43%\n"
     ]
    }
   ],
   "source": [
    "#Accuracy score on training data\n",
    "y_pred = classifier.predict(tfid_x_test)\n",
    "score = accuracy_score(y_test,y_pred)\n",
    "print(f'Accuracy: {round(score*100,2)}%')"
   ]
  },
  {
   "cell_type": "code",
   "execution_count": 35,
   "id": "2473b8a6",
   "metadata": {},
   "outputs": [],
   "source": [
    "#K-Nearest Neighbors Model\n",
    "knn=KNeighborsClassifier(n_neighbors=3)"
   ]
  },
  {
   "cell_type": "code",
   "execution_count": 36,
   "id": "ca5f5349",
   "metadata": {},
   "outputs": [
    {
     "data": {
      "text/plain": [
       "KNeighborsClassifier(n_neighbors=3)"
      ]
     },
     "execution_count": 36,
     "metadata": {},
     "output_type": "execute_result"
    }
   ],
   "source": [
    "knn.fit(tfid_x_train,y_train)"
   ]
  },
  {
   "cell_type": "code",
   "execution_count": 37,
   "id": "87b7cc6f",
   "metadata": {},
   "outputs": [
    {
     "name": "stdout",
     "output_type": "stream",
     "text": [
      "Accuracy: 66.9%\n"
     ]
    }
   ],
   "source": [
    "#Accuracy score on training data\n",
    "y_pred = knn.predict(tfid_x_test)\n",
    "score = accuracy_score(y_test,y_pred)\n",
    "print(f'Accuracy: {round(score*100,2)}%')"
   ]
  },
  {
   "cell_type": "code",
   "execution_count": 38,
   "id": "84d20cbb",
   "metadata": {},
   "outputs": [],
   "source": [
    "#Logictic Regression Model\n",
    "logred=LogisticRegression()"
   ]
  },
  {
   "cell_type": "code",
   "execution_count": 39,
   "id": "25772757",
   "metadata": {},
   "outputs": [
    {
     "data": {
      "text/plain": [
       "LogisticRegression()"
      ]
     },
     "execution_count": 39,
     "metadata": {},
     "output_type": "execute_result"
    }
   ],
   "source": [
    "logred.fit(tfid_x_train,y_train)"
   ]
  },
  {
   "cell_type": "code",
   "execution_count": 40,
   "id": "ca42e3e8",
   "metadata": {},
   "outputs": [
    {
     "name": "stdout",
     "output_type": "stream",
     "text": [
      "Accuracy: 98.33%\n"
     ]
    }
   ],
   "source": [
    "#Accuracy score on training data\n",
    "y_pred = logred.predict(tfid_x_test)\n",
    "score = accuracy_score(y_test,y_pred)\n",
    "print(f'Accuracy: {round(score*100,2)}%')"
   ]
  },
  {
   "cell_type": "code",
   "execution_count": 41,
   "id": "d395f186",
   "metadata": {},
   "outputs": [],
   "source": [
    "from sklearn.ensemble import RandomForestClassifier"
   ]
  },
  {
   "cell_type": "code",
   "execution_count": 42,
   "id": "d9d6142e",
   "metadata": {},
   "outputs": [],
   "source": [
    "#Random Forest Model\n",
    "clf=RandomForestClassifier(n_estimators=100)"
   ]
  },
  {
   "cell_type": "code",
   "execution_count": 43,
   "id": "5df8c3cf",
   "metadata": {},
   "outputs": [
    {
     "data": {
      "text/plain": [
       "RandomForestClassifier()"
      ]
     },
     "execution_count": 43,
     "metadata": {},
     "output_type": "execute_result"
    }
   ],
   "source": [
    "clf.fit(tfid_x_train,y_train)"
   ]
  },
  {
   "cell_type": "code",
   "execution_count": 44,
   "id": "9e56b328",
   "metadata": {},
   "outputs": [
    {
     "name": "stdout",
     "output_type": "stream",
     "text": [
      "Accuracy: 99.01%\n"
     ]
    }
   ],
   "source": [
    "#Accuracy score on training data\n",
    "y_pred = clf.predict(tfid_x_test)\n",
    "score = accuracy_score(y_test,y_pred)\n",
    "print(f'Accuracy: {round(score*100,2)}%')"
   ]
  },
  {
   "cell_type": "code",
   "execution_count": 45,
   "id": "0c5d52a0",
   "metadata": {},
   "outputs": [],
   "source": [
    "from sklearn.tree import DecisionTreeClassifier"
   ]
  },
  {
   "cell_type": "code",
   "execution_count": 46,
   "id": "cc65a438",
   "metadata": {},
   "outputs": [],
   "source": [
    "#Decision Tree Model\n",
    "dtc=DecisionTreeClassifier()"
   ]
  },
  {
   "cell_type": "code",
   "execution_count": 47,
   "id": "ffbb646f",
   "metadata": {},
   "outputs": [],
   "source": [
    "import time"
   ]
  },
  {
   "cell_type": "code",
   "execution_count": 48,
   "id": "c2656280",
   "metadata": {},
   "outputs": [
    {
     "name": "stdout",
     "output_type": "stream",
     "text": [
      "Training time: 53.03909993171692s\n"
     ]
    }
   ],
   "source": [
    "start=time.time()\n",
    "dtc.fit(tfid_x_train,y_train)\n",
    "stop=time.time()\n",
    "print(f\"Training time: {stop - start}s\")"
   ]
  },
  {
   "cell_type": "code",
   "execution_count": 49,
   "id": "50ebd5c1",
   "metadata": {},
   "outputs": [
    {
     "name": "stdout",
     "output_type": "stream",
     "text": [
      "Accuracy: 99.59%\n"
     ]
    }
   ],
   "source": [
    "#Accuracy score on training data\n",
    "y_pred = dtc.predict(tfid_x_test)\n",
    "score = accuracy_score(y_test,y_pred)\n",
    "print(f'Accuracy: {round(score*100,2)}%')"
   ]
  },
  {
   "cell_type": "markdown",
   "id": "072efb7b",
   "metadata": {},
   "source": [
    "### As we have got the best training Accuracy score for Decision Tree Classifier model. We'll be using it as our model for the fake news detector. "
   ]
  },
  {
   "cell_type": "code",
   "execution_count": 50,
   "id": "cab4d105",
   "metadata": {},
   "outputs": [
    {
     "name": "stdout",
     "output_type": "stream",
     "text": [
      "[[7049   20]\n",
      " [  35 6366]]\n"
     ]
    }
   ],
   "source": [
    "#Confusion Matrix\n",
    "cf=confusion_matrix(y_test,y_pred, labels=[0,1])\n",
    "print(cf)"
   ]
  },
  {
   "cell_type": "code",
   "execution_count": 51,
   "id": "86a217f0",
   "metadata": {},
   "outputs": [
    {
     "name": "stdout",
     "output_type": "stream",
     "text": [
      "f1score: 0.99592\n"
     ]
    }
   ],
   "source": [
    "#F1 Score\n",
    "f1score=f1_score(y_test, y_pred,average='weighted')\n",
    "print(f'f1score: {round(f1score,5)}')"
   ]
  },
  {
   "cell_type": "code",
   "execution_count": 52,
   "id": "4b185ce8",
   "metadata": {},
   "outputs": [
    {
     "name": "stdout",
     "output_type": "stream",
     "text": [
      "Precision Score: 0.99592\n"
     ]
    }
   ],
   "source": [
    "#Precision Score\n",
    "precision=precision_score(y_test, y_pred,average='weighted')\n",
    "print(f'Precision Score: {round(f1score,5)}')"
   ]
  },
  {
   "cell_type": "code",
   "execution_count": 56,
   "id": "63caffd4",
   "metadata": {},
   "outputs": [],
   "source": [
    "import pickle\n",
    "pickle.dump(dtc,open('fake_true.pkl', 'wb'))"
   ]
  },
  {
   "cell_type": "code",
   "execution_count": 57,
   "id": "18d74813",
   "metadata": {},
   "outputs": [],
   "source": [
    "loaded_model=pickle.load(open('fake_true.pkl', 'rb'))"
   ]
  },
  {
   "cell_type": "code",
   "execution_count": 55,
   "id": "7476e1d4",
   "metadata": {},
   "outputs": [],
   "source": [
    "from sklearn.model_selection import learning_curve"
   ]
  },
  {
   "cell_type": "code",
   "execution_count": null,
   "id": "2eaa5d09",
   "metadata": {},
   "outputs": [],
   "source": []
  }
 ],
 "metadata": {
  "kernelspec": {
   "display_name": "Python 3",
   "language": "python",
   "name": "python3"
  },
  "language_info": {
   "codemirror_mode": {
    "name": "ipython",
    "version": 3
   },
   "file_extension": ".py",
   "mimetype": "text/x-python",
   "name": "python",
   "nbconvert_exporter": "python",
   "pygments_lexer": "ipython3",
   "version": "3.8.5"
  }
 },
 "nbformat": 4,
 "nbformat_minor": 5
}
