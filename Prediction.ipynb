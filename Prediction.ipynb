{
 "cells": [
  {
   "cell_type": "code",
   "execution_count": 1,
   "id": "5d0a378c",
   "metadata": {},
   "outputs": [],
   "source": [
    "import pandas as pd\n",
    "import numpy as np"
   ]
  },
  {
   "cell_type": "code",
   "execution_count": 2,
   "id": "4e857930",
   "metadata": {},
   "outputs": [],
   "source": [
    "#Reading the datasets\n",
    "df_fake=pd.read_csv('Fake.csv')\n",
    "df_real=pd.read_csv('True.csv')"
   ]
  },
  {
   "cell_type": "code",
   "execution_count": 3,
   "id": "b2ecc0b8",
   "metadata": {},
   "outputs": [
    {
     "data": {
      "text/plain": [
       "<bound method NDFrame.head of                                                    title  \\\n",
       "0       Donald Trump Sends Out Embarrassing New Year’...   \n",
       "1       Drunk Bragging Trump Staffer Started Russian ...   \n",
       "2       Sheriff David Clarke Becomes An Internet Joke...   \n",
       "3       Trump Is So Obsessed He Even Has Obama’s Name...   \n",
       "4       Pope Francis Just Called Out Donald Trump Dur...   \n",
       "...                                                  ...   \n",
       "23476  McPain: John McCain Furious That Iran Treated ...   \n",
       "23477  JUSTICE? Yahoo Settles E-mail Privacy Class-ac...   \n",
       "23478  Sunnistan: US and Allied ‘Safe Zone’ Plan to T...   \n",
       "23479  How to Blow $700 Million: Al Jazeera America F...   \n",
       "23480  10 U.S. Navy Sailors Held by Iranian Military ...   \n",
       "\n",
       "                                                    text      subject  \\\n",
       "0      Donald Trump just couldn t wish all Americans ...         News   \n",
       "1      House Intelligence Committee Chairman Devin Nu...         News   \n",
       "2      On Friday, it was revealed that former Milwauk...         News   \n",
       "3      On Christmas day, Donald Trump announced that ...         News   \n",
       "4      Pope Francis used his annual Christmas Day mes...         News   \n",
       "...                                                  ...          ...   \n",
       "23476  21st Century Wire says As 21WIRE reported earl...  Middle-east   \n",
       "23477  21st Century Wire says It s a familiar theme. ...  Middle-east   \n",
       "23478  Patrick Henningsen  21st Century WireRemember ...  Middle-east   \n",
       "23479  21st Century Wire says Al Jazeera America will...  Middle-east   \n",
       "23480  21st Century Wire says As 21WIRE predicted in ...  Middle-east   \n",
       "\n",
       "                    date  \n",
       "0      December 31, 2017  \n",
       "1      December 31, 2017  \n",
       "2      December 30, 2017  \n",
       "3      December 29, 2017  \n",
       "4      December 25, 2017  \n",
       "...                  ...  \n",
       "23476   January 16, 2016  \n",
       "23477   January 16, 2016  \n",
       "23478   January 15, 2016  \n",
       "23479   January 14, 2016  \n",
       "23480   January 12, 2016  \n",
       "\n",
       "[23481 rows x 4 columns]>"
      ]
     },
     "execution_count": 3,
     "metadata": {},
     "output_type": "execute_result"
    }
   ],
   "source": [
    "df_fake.head"
   ]
  },
  {
   "cell_type": "code",
   "execution_count": 4,
   "id": "99159ad3",
   "metadata": {},
   "outputs": [
    {
     "data": {
      "text/plain": [
       "(23481, 4)"
      ]
     },
     "execution_count": 4,
     "metadata": {},
     "output_type": "execute_result"
    }
   ],
   "source": [
    "df_fake.shape"
   ]
  },
  {
   "cell_type": "code",
   "execution_count": 5,
   "id": "997eb46d",
   "metadata": {},
   "outputs": [
    {
     "data": {
      "text/plain": [
       "<bound method NDFrame.head of                                                    title  \\\n",
       "0      As U.S. budget fight looms, Republicans flip t...   \n",
       "1      U.S. military to accept transgender recruits o...   \n",
       "2      Senior U.S. Republican senator: 'Let Mr. Muell...   \n",
       "3      FBI Russia probe helped by Australian diplomat...   \n",
       "4      Trump wants Postal Service to charge 'much mor...   \n",
       "...                                                  ...   \n",
       "21412  'Fully committed' NATO backs new U.S. approach...   \n",
       "21413  LexisNexis withdrew two products from Chinese ...   \n",
       "21414  Minsk cultural hub becomes haven from authorities   \n",
       "21415  Vatican upbeat on possibility of Pope Francis ...   \n",
       "21416  Indonesia to buy $1.14 billion worth of Russia...   \n",
       "\n",
       "                                                    text       subject  \\\n",
       "0      WASHINGTON (Reuters) - The head of a conservat...  politicsNews   \n",
       "1      WASHINGTON (Reuters) - Transgender people will...  politicsNews   \n",
       "2      WASHINGTON (Reuters) - The special counsel inv...  politicsNews   \n",
       "3      WASHINGTON (Reuters) - Trump campaign adviser ...  politicsNews   \n",
       "4      SEATTLE/WASHINGTON (Reuters) - President Donal...  politicsNews   \n",
       "...                                                  ...           ...   \n",
       "21412  BRUSSELS (Reuters) - NATO allies on Tuesday we...     worldnews   \n",
       "21413  LONDON (Reuters) - LexisNexis, a provider of l...     worldnews   \n",
       "21414  MINSK (Reuters) - In the shadow of disused Sov...     worldnews   \n",
       "21415  MOSCOW (Reuters) - Vatican Secretary of State ...     worldnews   \n",
       "21416  JAKARTA (Reuters) - Indonesia will buy 11 Sukh...     worldnews   \n",
       "\n",
       "                     date  \n",
       "0      December 31, 2017   \n",
       "1      December 29, 2017   \n",
       "2      December 31, 2017   \n",
       "3      December 30, 2017   \n",
       "4      December 29, 2017   \n",
       "...                   ...  \n",
       "21412    August 22, 2017   \n",
       "21413    August 22, 2017   \n",
       "21414    August 22, 2017   \n",
       "21415    August 22, 2017   \n",
       "21416    August 22, 2017   \n",
       "\n",
       "[21417 rows x 4 columns]>"
      ]
     },
     "execution_count": 5,
     "metadata": {},
     "output_type": "execute_result"
    }
   ],
   "source": [
    "df_real.head"
   ]
  },
  {
   "cell_type": "code",
   "execution_count": 6,
   "id": "453dd823",
   "metadata": {},
   "outputs": [
    {
     "data": {
      "text/plain": [
       "(21417, 4)"
      ]
     },
     "execution_count": 6,
     "metadata": {},
     "output_type": "execute_result"
    }
   ],
   "source": [
    "df_real.shape"
   ]
  },
  {
   "cell_type": "code",
   "execution_count": 7,
   "id": "2f1c8161",
   "metadata": {},
   "outputs": [],
   "source": [
    "#Reshaping data\n",
    "df_fake['label'] = 0"
   ]
  },
  {
   "cell_type": "code",
   "execution_count": 8,
   "id": "2976ff2e",
   "metadata": {},
   "outputs": [
    {
     "data": {
      "text/plain": [
       "<bound method NDFrame.head of                                                    title  \\\n",
       "0       Donald Trump Sends Out Embarrassing New Year’...   \n",
       "1       Drunk Bragging Trump Staffer Started Russian ...   \n",
       "2       Sheriff David Clarke Becomes An Internet Joke...   \n",
       "3       Trump Is So Obsessed He Even Has Obama’s Name...   \n",
       "4       Pope Francis Just Called Out Donald Trump Dur...   \n",
       "...                                                  ...   \n",
       "23476  McPain: John McCain Furious That Iran Treated ...   \n",
       "23477  JUSTICE? Yahoo Settles E-mail Privacy Class-ac...   \n",
       "23478  Sunnistan: US and Allied ‘Safe Zone’ Plan to T...   \n",
       "23479  How to Blow $700 Million: Al Jazeera America F...   \n",
       "23480  10 U.S. Navy Sailors Held by Iranian Military ...   \n",
       "\n",
       "                                                    text      subject  \\\n",
       "0      Donald Trump just couldn t wish all Americans ...         News   \n",
       "1      House Intelligence Committee Chairman Devin Nu...         News   \n",
       "2      On Friday, it was revealed that former Milwauk...         News   \n",
       "3      On Christmas day, Donald Trump announced that ...         News   \n",
       "4      Pope Francis used his annual Christmas Day mes...         News   \n",
       "...                                                  ...          ...   \n",
       "23476  21st Century Wire says As 21WIRE reported earl...  Middle-east   \n",
       "23477  21st Century Wire says It s a familiar theme. ...  Middle-east   \n",
       "23478  Patrick Henningsen  21st Century WireRemember ...  Middle-east   \n",
       "23479  21st Century Wire says Al Jazeera America will...  Middle-east   \n",
       "23480  21st Century Wire says As 21WIRE predicted in ...  Middle-east   \n",
       "\n",
       "                    date  label  \n",
       "0      December 31, 2017      0  \n",
       "1      December 31, 2017      0  \n",
       "2      December 30, 2017      0  \n",
       "3      December 29, 2017      0  \n",
       "4      December 25, 2017      0  \n",
       "...                  ...    ...  \n",
       "23476   January 16, 2016      0  \n",
       "23477   January 16, 2016      0  \n",
       "23478   January 15, 2016      0  \n",
       "23479   January 14, 2016      0  \n",
       "23480   January 12, 2016      0  \n",
       "\n",
       "[23481 rows x 5 columns]>"
      ]
     },
     "execution_count": 8,
     "metadata": {},
     "output_type": "execute_result"
    }
   ],
   "source": [
    "df_fake.head"
   ]
  },
  {
   "cell_type": "code",
   "execution_count": 9,
   "id": "e2ce42c6",
   "metadata": {},
   "outputs": [],
   "source": [
    "df_real['label']=1"
   ]
  },
  {
   "cell_type": "code",
   "execution_count": 10,
   "id": "dacb9f17",
   "metadata": {},
   "outputs": [
    {
     "data": {
      "text/plain": [
       "<bound method NDFrame.head of                                                    title  \\\n",
       "0      As U.S. budget fight looms, Republicans flip t...   \n",
       "1      U.S. military to accept transgender recruits o...   \n",
       "2      Senior U.S. Republican senator: 'Let Mr. Muell...   \n",
       "3      FBI Russia probe helped by Australian diplomat...   \n",
       "4      Trump wants Postal Service to charge 'much mor...   \n",
       "...                                                  ...   \n",
       "21412  'Fully committed' NATO backs new U.S. approach...   \n",
       "21413  LexisNexis withdrew two products from Chinese ...   \n",
       "21414  Minsk cultural hub becomes haven from authorities   \n",
       "21415  Vatican upbeat on possibility of Pope Francis ...   \n",
       "21416  Indonesia to buy $1.14 billion worth of Russia...   \n",
       "\n",
       "                                                    text       subject  \\\n",
       "0      WASHINGTON (Reuters) - The head of a conservat...  politicsNews   \n",
       "1      WASHINGTON (Reuters) - Transgender people will...  politicsNews   \n",
       "2      WASHINGTON (Reuters) - The special counsel inv...  politicsNews   \n",
       "3      WASHINGTON (Reuters) - Trump campaign adviser ...  politicsNews   \n",
       "4      SEATTLE/WASHINGTON (Reuters) - President Donal...  politicsNews   \n",
       "...                                                  ...           ...   \n",
       "21412  BRUSSELS (Reuters) - NATO allies on Tuesday we...     worldnews   \n",
       "21413  LONDON (Reuters) - LexisNexis, a provider of l...     worldnews   \n",
       "21414  MINSK (Reuters) - In the shadow of disused Sov...     worldnews   \n",
       "21415  MOSCOW (Reuters) - Vatican Secretary of State ...     worldnews   \n",
       "21416  JAKARTA (Reuters) - Indonesia will buy 11 Sukh...     worldnews   \n",
       "\n",
       "                     date  label  \n",
       "0      December 31, 2017       1  \n",
       "1      December 29, 2017       1  \n",
       "2      December 31, 2017       1  \n",
       "3      December 30, 2017       1  \n",
       "4      December 29, 2017       1  \n",
       "...                   ...    ...  \n",
       "21412    August 22, 2017       1  \n",
       "21413    August 22, 2017       1  \n",
       "21414    August 22, 2017       1  \n",
       "21415    August 22, 2017       1  \n",
       "21416    August 22, 2017       1  \n",
       "\n",
       "[21417 rows x 5 columns]>"
      ]
     },
     "execution_count": 10,
     "metadata": {},
     "output_type": "execute_result"
    }
   ],
   "source": [
    "df_real.head"
   ]
  },
  {
   "cell_type": "code",
   "execution_count": 11,
   "id": "0c3860d7",
   "metadata": {},
   "outputs": [],
   "source": [
    "#Concatinating the two datasets into one\n",
    "df_complete_csv=pd.concat([df_fake, df_real],axis=0)"
   ]
  },
  {
   "cell_type": "code",
   "execution_count": 12,
   "id": "5d6354d2",
   "metadata": {},
   "outputs": [
    {
     "data": {
      "text/plain": [
       "title      0\n",
       "text       0\n",
       "subject    0\n",
       "date       0\n",
       "label      0\n",
       "dtype: int64"
      ]
     },
     "execution_count": 12,
     "metadata": {},
     "output_type": "execute_result"
    }
   ],
   "source": [
    "#Checking for null values\n",
    "df_complete_csv.isnull().sum()"
   ]
  },
  {
   "cell_type": "code",
   "execution_count": 13,
   "id": "bcc861aa",
   "metadata": {},
   "outputs": [
    {
     "data": {
      "text/plain": [
       "(44898, 5)"
      ]
     },
     "execution_count": 13,
     "metadata": {},
     "output_type": "execute_result"
    }
   ],
   "source": [
    "df_complete_csv.shape"
   ]
  },
  {
   "cell_type": "code",
   "execution_count": 14,
   "id": "14c6c87f",
   "metadata": {},
   "outputs": [],
   "source": [
    "df_complete_csv=df_complete_csv.sample(frac=1)"
   ]
  },
  {
   "cell_type": "code",
   "execution_count": 15,
   "id": "11cb3fed",
   "metadata": {},
   "outputs": [
    {
     "data": {
      "text/html": [
       "<div>\n",
       "<style scoped>\n",
       "    .dataframe tbody tr th:only-of-type {\n",
       "        vertical-align: middle;\n",
       "    }\n",
       "\n",
       "    .dataframe tbody tr th {\n",
       "        vertical-align: top;\n",
       "    }\n",
       "\n",
       "    .dataframe thead th {\n",
       "        text-align: right;\n",
       "    }\n",
       "</style>\n",
       "<table border=\"1\" class=\"dataframe\">\n",
       "  <thead>\n",
       "    <tr style=\"text-align: right;\">\n",
       "      <th></th>\n",
       "      <th>title</th>\n",
       "      <th>text</th>\n",
       "      <th>subject</th>\n",
       "      <th>date</th>\n",
       "      <th>label</th>\n",
       "    </tr>\n",
       "  </thead>\n",
       "  <tbody>\n",
       "    <tr>\n",
       "      <th>11089</th>\n",
       "      <td>McCain vows to undo U.S. legislation that ease...</td>\n",
       "      <td>WASHINGTON (Reuters) - U.S. Senate Armed Servi...</td>\n",
       "      <td>politicsNews</td>\n",
       "      <td>January 27, 2016</td>\n",
       "      <td>1</td>\n",
       "    </tr>\n",
       "    <tr>\n",
       "      <th>15191</th>\n",
       "      <td>#BlackLivesMatter Terrorists Using #BlackRail ...</td>\n",
       "      <td>Sanctioned domestic terrorists taking directio...</td>\n",
       "      <td>politics</td>\n",
       "      <td>Sep 19, 2015</td>\n",
       "      <td>0</td>\n",
       "    </tr>\n",
       "    <tr>\n",
       "      <th>13791</th>\n",
       "      <td>Syrian government welcomes committee to discus...</td>\n",
       "      <td>BEIRUT (Reuters) - The Syrian government welco...</td>\n",
       "      <td>worldnews</td>\n",
       "      <td>November 27, 2017</td>\n",
       "      <td>1</td>\n",
       "    </tr>\n",
       "    <tr>\n",
       "      <th>15732</th>\n",
       "      <td>BREAKING: FEDERAL COURT RULES ON NSA’S WARRANT...</td>\n",
       "      <td>Another positive step towards restoring our fr...</td>\n",
       "      <td>politics</td>\n",
       "      <td>May 7, 2015</td>\n",
       "      <td>0</td>\n",
       "    </tr>\n",
       "    <tr>\n",
       "      <th>1085</th>\n",
       "      <td>Abadi defends role of Iranian-backed paramilta...</td>\n",
       "      <td>BAGHDAD (Reuters) - Iraqi Prime Minister Haide...</td>\n",
       "      <td>politicsNews</td>\n",
       "      <td>October 23, 2017</td>\n",
       "      <td>1</td>\n",
       "    </tr>\n",
       "    <tr>\n",
       "      <th>4188</th>\n",
       "      <td>Trump Just Got One Of His Victims’ RELATIVES ...</td>\n",
       "      <td>Donald Trump s damage control regarding his pe...</td>\n",
       "      <td>News</td>\n",
       "      <td>October 15, 2016</td>\n",
       "      <td>0</td>\n",
       "    </tr>\n",
       "    <tr>\n",
       "      <th>507</th>\n",
       "      <td>Want To Ride On Air Force One As A Senator? T...</td>\n",
       "      <td>By now we re all familiar with Donald Trump s ...</td>\n",
       "      <td>News</td>\n",
       "      <td>August 23, 2017</td>\n",
       "      <td>0</td>\n",
       "    </tr>\n",
       "    <tr>\n",
       "      <th>2308</th>\n",
       "      <td>Donald Trump Just Got Humiliated By The DICTI...</td>\n",
       "      <td>On Friday, Donald Trump was so angry about the...</td>\n",
       "      <td>News</td>\n",
       "      <td>March 4, 2017</td>\n",
       "      <td>0</td>\n",
       "    </tr>\n",
       "    <tr>\n",
       "      <th>3394</th>\n",
       "      <td>Elizabeth Warren Goes Off On Trump In Totally...</td>\n",
       "      <td>As we get closer to the day when Trump must ta...</td>\n",
       "      <td>News</td>\n",
       "      <td>December 15, 2016</td>\n",
       "      <td>0</td>\n",
       "    </tr>\n",
       "    <tr>\n",
       "      <th>14473</th>\n",
       "      <td>Freeport evacuating Indonesian mine worker fam...</td>\n",
       "      <td>TIMIKA, Indonesia (Reuters) - U.S. miner Freep...</td>\n",
       "      <td>worldnews</td>\n",
       "      <td>November 17, 2017</td>\n",
       "      <td>1</td>\n",
       "    </tr>\n",
       "    <tr>\n",
       "      <th>8009</th>\n",
       "      <td>Senior national security official to leave Jus...</td>\n",
       "      <td>WASHINGTON (Reuters) - A senior U.S. Justice D...</td>\n",
       "      <td>politicsNews</td>\n",
       "      <td>September 27, 2016</td>\n",
       "      <td>1</td>\n",
       "    </tr>\n",
       "    <tr>\n",
       "      <th>17467</th>\n",
       "      <td>TOP FIVE Food Stamp Fraud Takedowns of 2017…Do...</td>\n",
       "      <td>After the Obama years of record food stamp us...</td>\n",
       "      <td>left-news</td>\n",
       "      <td>Dec 30, 2017</td>\n",
       "      <td>0</td>\n",
       "    </tr>\n",
       "    <tr>\n",
       "      <th>5939</th>\n",
       "      <td>J.K. Rowling Slaps Down Racist Twitter Reply,...</td>\n",
       "      <td>A lot of people have a lot to say about the ro...</td>\n",
       "      <td>News</td>\n",
       "      <td>June 10, 2016</td>\n",
       "      <td>0</td>\n",
       "    </tr>\n",
       "    <tr>\n",
       "      <th>10178</th>\n",
       "      <td>N.C. governor signs bill repealing Charlotte t...</td>\n",
       "      <td>WINSTON-SALEM, N.C. (Reuters) - North Carolina...</td>\n",
       "      <td>politicsNews</td>\n",
       "      <td>March 23, 2016</td>\n",
       "      <td>1</td>\n",
       "    </tr>\n",
       "    <tr>\n",
       "      <th>9535</th>\n",
       "      <td>HILLARY LIES THROUGH HER TEETH: Defends Paying...</td>\n",
       "      <td>Hillary Clinton told Trevor Noah on the Daily ...</td>\n",
       "      <td>politics</td>\n",
       "      <td>Nov 2, 2017</td>\n",
       "      <td>0</td>\n",
       "    </tr>\n",
       "    <tr>\n",
       "      <th>13100</th>\n",
       "      <td>RED FLAG IN CLINTON’S FBI INTERVIEW Shocks For...</td>\n",
       "      <td>Finally, something else about those lawyers. I...</td>\n",
       "      <td>politics</td>\n",
       "      <td>Sep 3, 2016</td>\n",
       "      <td>0</td>\n",
       "    </tr>\n",
       "    <tr>\n",
       "      <th>15433</th>\n",
       "      <td>Saudi mass arrests jolt markets but many see o...</td>\n",
       "      <td>RIYADH (Reuters) - All major Gulf stock market...</td>\n",
       "      <td>worldnews</td>\n",
       "      <td>November 7, 2017</td>\n",
       "      <td>1</td>\n",
       "    </tr>\n",
       "    <tr>\n",
       "      <th>8506</th>\n",
       "      <td>Timeline: Zika's origin and global spread</td>\n",
       "      <td>The following timeline charts the origin and s...</td>\n",
       "      <td>politicsNews</td>\n",
       "      <td>August 4, 2016</td>\n",
       "      <td>1</td>\n",
       "    </tr>\n",
       "    <tr>\n",
       "      <th>4895</th>\n",
       "      <td>Lawmakers vow to fight proposed cuts in Chesap...</td>\n",
       "      <td>WASHINGTON (Reuters) - President Donald Trump’...</td>\n",
       "      <td>politicsNews</td>\n",
       "      <td>March 17, 2017</td>\n",
       "      <td>1</td>\n",
       "    </tr>\n",
       "    <tr>\n",
       "      <th>12926</th>\n",
       "      <td>Panama recalls EU ambassador over tax haven list</td>\n",
       "      <td>PANAMA CITY (Reuters) - Panama recalled its am...</td>\n",
       "      <td>worldnews</td>\n",
       "      <td>December 6, 2017</td>\n",
       "      <td>1</td>\n",
       "    </tr>\n",
       "  </tbody>\n",
       "</table>\n",
       "</div>"
      ],
      "text/plain": [
       "                                                   title  \\\n",
       "11089  McCain vows to undo U.S. legislation that ease...   \n",
       "15191  #BlackLivesMatter Terrorists Using #BlackRail ...   \n",
       "13791  Syrian government welcomes committee to discus...   \n",
       "15732  BREAKING: FEDERAL COURT RULES ON NSA’S WARRANT...   \n",
       "1085   Abadi defends role of Iranian-backed paramilta...   \n",
       "4188    Trump Just Got One Of His Victims’ RELATIVES ...   \n",
       "507     Want To Ride On Air Force One As A Senator? T...   \n",
       "2308    Donald Trump Just Got Humiliated By The DICTI...   \n",
       "3394    Elizabeth Warren Goes Off On Trump In Totally...   \n",
       "14473  Freeport evacuating Indonesian mine worker fam...   \n",
       "8009   Senior national security official to leave Jus...   \n",
       "17467  TOP FIVE Food Stamp Fraud Takedowns of 2017…Do...   \n",
       "5939    J.K. Rowling Slaps Down Racist Twitter Reply,...   \n",
       "10178  N.C. governor signs bill repealing Charlotte t...   \n",
       "9535   HILLARY LIES THROUGH HER TEETH: Defends Paying...   \n",
       "13100  RED FLAG IN CLINTON’S FBI INTERVIEW Shocks For...   \n",
       "15433  Saudi mass arrests jolt markets but many see o...   \n",
       "8506           Timeline: Zika's origin and global spread   \n",
       "4895   Lawmakers vow to fight proposed cuts in Chesap...   \n",
       "12926   Panama recalls EU ambassador over tax haven list   \n",
       "\n",
       "                                                    text       subject  \\\n",
       "11089  WASHINGTON (Reuters) - U.S. Senate Armed Servi...  politicsNews   \n",
       "15191  Sanctioned domestic terrorists taking directio...      politics   \n",
       "13791  BEIRUT (Reuters) - The Syrian government welco...     worldnews   \n",
       "15732  Another positive step towards restoring our fr...      politics   \n",
       "1085   BAGHDAD (Reuters) - Iraqi Prime Minister Haide...  politicsNews   \n",
       "4188   Donald Trump s damage control regarding his pe...          News   \n",
       "507    By now we re all familiar with Donald Trump s ...          News   \n",
       "2308   On Friday, Donald Trump was so angry about the...          News   \n",
       "3394   As we get closer to the day when Trump must ta...          News   \n",
       "14473  TIMIKA, Indonesia (Reuters) - U.S. miner Freep...     worldnews   \n",
       "8009   WASHINGTON (Reuters) - A senior U.S. Justice D...  politicsNews   \n",
       "17467   After the Obama years of record food stamp us...     left-news   \n",
       "5939   A lot of people have a lot to say about the ro...          News   \n",
       "10178  WINSTON-SALEM, N.C. (Reuters) - North Carolina...  politicsNews   \n",
       "9535   Hillary Clinton told Trevor Noah on the Daily ...      politics   \n",
       "13100  Finally, something else about those lawyers. I...      politics   \n",
       "15433  RIYADH (Reuters) - All major Gulf stock market...     worldnews   \n",
       "8506   The following timeline charts the origin and s...  politicsNews   \n",
       "4895   WASHINGTON (Reuters) - President Donald Trump’...  politicsNews   \n",
       "12926  PANAMA CITY (Reuters) - Panama recalled its am...     worldnews   \n",
       "\n",
       "                      date  label  \n",
       "11089    January 27, 2016       1  \n",
       "15191         Sep 19, 2015      0  \n",
       "13791   November 27, 2017       1  \n",
       "15732          May 7, 2015      0  \n",
       "1085     October 23, 2017       1  \n",
       "4188      October 15, 2016      0  \n",
       "507        August 23, 2017      0  \n",
       "2308         March 4, 2017      0  \n",
       "3394     December 15, 2016      0  \n",
       "14473   November 17, 2017       1  \n",
       "8009   September 27, 2016       1  \n",
       "17467         Dec 30, 2017      0  \n",
       "5939         June 10, 2016      0  \n",
       "10178      March 23, 2016       1  \n",
       "9535           Nov 2, 2017      0  \n",
       "13100          Sep 3, 2016      0  \n",
       "15433    November 7, 2017       1  \n",
       "8506       August 4, 2016       1  \n",
       "4895       March 17, 2017       1  \n",
       "12926    December 6, 2017       1  "
      ]
     },
     "execution_count": 15,
     "metadata": {},
     "output_type": "execute_result"
    }
   ],
   "source": [
    "df_complete_csv.head(20)"
   ]
  },
  {
   "cell_type": "code",
   "execution_count": 16,
   "id": "e1d43a15",
   "metadata": {},
   "outputs": [
    {
     "data": {
      "text/plain": [
       "<bound method NDFrame.head of                                                    title  \\\n",
       "11089  McCain vows to undo U.S. legislation that ease...   \n",
       "15191  #BlackLivesMatter Terrorists Using #BlackRail ...   \n",
       "13791  Syrian government welcomes committee to discus...   \n",
       "15732  BREAKING: FEDERAL COURT RULES ON NSA’S WARRANT...   \n",
       "1085   Abadi defends role of Iranian-backed paramilta...   \n",
       "...                                                  ...   \n",
       "16940  GOP MAJORITY SENATE FINALLY GETS IT RIGHT: Vot...   \n",
       "8109   Republican VP candidate Pence in 'excellent' h...   \n",
       "14078   OBAMA’S ECONOMIC LEGACY IN 9 Easy To Read Charts   \n",
       "15504  DISNEY’S ESPN PUNISHES TRUMP FOR FREE SPEECH…I...   \n",
       "19031  Iraqi soldiers join Turkish exercises near sha...   \n",
       "\n",
       "                                                    text          subject  \\\n",
       "11089  WASHINGTON (Reuters) - U.S. Senate Armed Servi...     politicsNews   \n",
       "15191  Sanctioned domestic terrorists taking directio...         politics   \n",
       "13791  BEIRUT (Reuters) - The Syrian government welco...        worldnews   \n",
       "15732  Another positive step towards restoring our fr...         politics   \n",
       "1085   BAGHDAD (Reuters) - Iraqi Prime Minister Haide...     politicsNews   \n",
       "...                                                  ...              ...   \n",
       "16940  The Democrats tried to attach a gun control am...  Government News   \n",
       "8109   (Reuters) - U.S. Republican vice presidential ...     politicsNews   \n",
       "14078  Anyone who would look at these charts and stil...         politics   \n",
       "15504  Disney s just doing their part to advance a ra...         politics   \n",
       "19031  HABUR, Turkey (Reuters) - Iraqi soldiers joine...        worldnews   \n",
       "\n",
       "                      date  label  \n",
       "11089    January 27, 2016       1  \n",
       "15191         Sep 19, 2015      0  \n",
       "13791   November 27, 2017       1  \n",
       "15732          May 7, 2015      0  \n",
       "1085     October 23, 2017       1  \n",
       "...                    ...    ...  \n",
       "16940          Dec 4, 2015      0  \n",
       "8109   September 17, 2016       1  \n",
       "14078         Apr 19, 2016      0  \n",
       "15504          Jul 6, 2015      0  \n",
       "19031  September 26, 2017       1  \n",
       "\n",
       "[44898 rows x 5 columns]>"
      ]
     },
     "execution_count": 16,
     "metadata": {},
     "output_type": "execute_result"
    }
   ],
   "source": [
    "df_complete_csv.head"
   ]
  },
  {
   "cell_type": "code",
   "execution_count": 17,
   "id": "bbc6b590",
   "metadata": {},
   "outputs": [],
   "source": [
    "#Creating a new csv\n",
    "df_complete_csv.to_csv('fake_and_real_news.csv')"
   ]
  },
  {
   "cell_type": "code",
   "execution_count": 18,
   "id": "79fc6b1c",
   "metadata": {},
   "outputs": [],
   "source": [
    "df=pd.read_csv('fake_and_real_news.csv')"
   ]
  },
  {
   "cell_type": "code",
   "execution_count": 19,
   "id": "37f30e28",
   "metadata": {},
   "outputs": [
    {
     "data": {
      "text/plain": [
       "<bound method NDFrame.head of        Unnamed: 0                                              title  \\\n",
       "0           11089  McCain vows to undo U.S. legislation that ease...   \n",
       "1           15191  #BlackLivesMatter Terrorists Using #BlackRail ...   \n",
       "2           13791  Syrian government welcomes committee to discus...   \n",
       "3           15732  BREAKING: FEDERAL COURT RULES ON NSA’S WARRANT...   \n",
       "4            1085  Abadi defends role of Iranian-backed paramilta...   \n",
       "...           ...                                                ...   \n",
       "44893       16940  GOP MAJORITY SENATE FINALLY GETS IT RIGHT: Vot...   \n",
       "44894        8109  Republican VP candidate Pence in 'excellent' h...   \n",
       "44895       14078   OBAMA’S ECONOMIC LEGACY IN 9 Easy To Read Charts   \n",
       "44896       15504  DISNEY’S ESPN PUNISHES TRUMP FOR FREE SPEECH…I...   \n",
       "44897       19031  Iraqi soldiers join Turkish exercises near sha...   \n",
       "\n",
       "                                                    text          subject  \\\n",
       "0      WASHINGTON (Reuters) - U.S. Senate Armed Servi...     politicsNews   \n",
       "1      Sanctioned domestic terrorists taking directio...         politics   \n",
       "2      BEIRUT (Reuters) - The Syrian government welco...        worldnews   \n",
       "3      Another positive step towards restoring our fr...         politics   \n",
       "4      BAGHDAD (Reuters) - Iraqi Prime Minister Haide...     politicsNews   \n",
       "...                                                  ...              ...   \n",
       "44893  The Democrats tried to attach a gun control am...  Government News   \n",
       "44894  (Reuters) - U.S. Republican vice presidential ...     politicsNews   \n",
       "44895  Anyone who would look at these charts and stil...         politics   \n",
       "44896  Disney s just doing their part to advance a ra...         politics   \n",
       "44897  HABUR, Turkey (Reuters) - Iraqi soldiers joine...        worldnews   \n",
       "\n",
       "                      date  label  \n",
       "0        January 27, 2016       1  \n",
       "1             Sep 19, 2015      0  \n",
       "2       November 27, 2017       1  \n",
       "3              May 7, 2015      0  \n",
       "4        October 23, 2017       1  \n",
       "...                    ...    ...  \n",
       "44893          Dec 4, 2015      0  \n",
       "44894  September 17, 2016       1  \n",
       "44895         Apr 19, 2016      0  \n",
       "44896          Jul 6, 2015      0  \n",
       "44897  September 26, 2017       1  \n",
       "\n",
       "[44898 rows x 6 columns]>"
      ]
     },
     "execution_count": 19,
     "metadata": {},
     "output_type": "execute_result"
    }
   ],
   "source": [
    "df.head"
   ]
  },
  {
   "cell_type": "code",
   "execution_count": 20,
   "id": "7343abfb",
   "metadata": {},
   "outputs": [],
   "source": [
    "#Seperating the dataset into data\n",
    "x=df['text']"
   ]
  },
  {
   "cell_type": "code",
   "execution_count": 21,
   "id": "4517b542",
   "metadata": {},
   "outputs": [
    {
     "data": {
      "text/plain": [
       "(44898,)"
      ]
     },
     "execution_count": 21,
     "metadata": {},
     "output_type": "execute_result"
    }
   ],
   "source": [
    "x.shape"
   ]
  },
  {
   "cell_type": "code",
   "execution_count": 22,
   "id": "b35b54f7",
   "metadata": {},
   "outputs": [
    {
     "data": {
      "text/plain": [
       "0        WASHINGTON (Reuters) - U.S. Senate Armed Servi...\n",
       "1        Sanctioned domestic terrorists taking directio...\n",
       "2        BEIRUT (Reuters) - The Syrian government welco...\n",
       "3        Another positive step towards restoring our fr...\n",
       "4        BAGHDAD (Reuters) - Iraqi Prime Minister Haide...\n",
       "                               ...                        \n",
       "44893    The Democrats tried to attach a gun control am...\n",
       "44894    (Reuters) - U.S. Republican vice presidential ...\n",
       "44895    Anyone who would look at these charts and stil...\n",
       "44896    Disney s just doing their part to advance a ra...\n",
       "44897    HABUR, Turkey (Reuters) - Iraqi soldiers joine...\n",
       "Name: text, Length: 44898, dtype: object"
      ]
     },
     "execution_count": 22,
     "metadata": {},
     "output_type": "execute_result"
    }
   ],
   "source": [
    "x"
   ]
  },
  {
   "cell_type": "code",
   "execution_count": 23,
   "id": "78bc3564",
   "metadata": {},
   "outputs": [],
   "source": [
    "#Seperate the dataset into labels\n",
    "y=df['label']"
   ]
  },
  {
   "cell_type": "code",
   "execution_count": 24,
   "id": "20ee8c4a",
   "metadata": {},
   "outputs": [
    {
     "data": {
      "text/plain": [
       "0        1\n",
       "1        0\n",
       "2        1\n",
       "3        0\n",
       "4        1\n",
       "        ..\n",
       "44893    0\n",
       "44894    1\n",
       "44895    0\n",
       "44896    0\n",
       "44897    1\n",
       "Name: label, Length: 44898, dtype: int64"
      ]
     },
     "execution_count": 24,
     "metadata": {},
     "output_type": "execute_result"
    }
   ],
   "source": [
    "y"
   ]
  },
  {
   "cell_type": "code",
   "execution_count": 25,
   "id": "e73079dc",
   "metadata": {},
   "outputs": [
    {
     "data": {
      "text/plain": [
       "(44898, 6)"
      ]
     },
     "execution_count": 25,
     "metadata": {},
     "output_type": "execute_result"
    }
   ],
   "source": [
    "df.shape"
   ]
  },
  {
   "cell_type": "code",
   "execution_count": 26,
   "id": "bc913db6",
   "metadata": {},
   "outputs": [],
   "source": [
    "from sklearn.model_selection import train_test_split"
   ]
  },
  {
   "cell_type": "code",
   "execution_count": 27,
   "id": "a06b79d8",
   "metadata": {},
   "outputs": [],
   "source": [
    "#Importing required models, vectorizer and metrics\n",
    "from sklearn.feature_extraction.text import TfidfVectorizer\n",
    "from sklearn.linear_model import PassiveAggressiveClassifier\n",
    "from sklearn.linear_model import LogisticRegression\n",
    "from sklearn.neighbors import KNeighborsClassifier\n",
    "from sklearn.naive_bayes import GaussianNB\n",
    "from sklearn.metrics import accuracy_score, confusion_matrix, f1_score, precision_score"
   ]
  },
  {
   "cell_type": "code",
   "execution_count": 28,
   "id": "929197f8",
   "metadata": {},
   "outputs": [],
   "source": [
    "#Splitting the dataset in train and test data\n",
    "x_train,x_test,y_train,y_test=train_test_split(x,y,test_size=0.3,random_state=0)"
   ]
  },
  {
   "cell_type": "code",
   "execution_count": 29,
   "id": "e3abedc9",
   "metadata": {},
   "outputs": [
    {
     "data": {
      "text/plain": [
       "33958    WARSAW (Reuters) - President Barack Obama pled...\n",
       "19813    CHICAGO (Reuters) - Dozens of Illinois social ...\n",
       "25814    This is hands down the best commentary yet on ...\n",
       "18689    Wow! Republicans had a chance to stand up to t...\n",
       "44673    After a tape was released in which Donald Trum...\n",
       "                               ...                        \n",
       "30403    Amateur president Donald Trump told the drough...\n",
       "21243    President Trump on Saturday criticized Hillary...\n",
       "42613    SEOUL (Reuters) - North Korea may announce the...\n",
       "43567    MEXICO CITY (Reuters) - Former Mexico finance ...\n",
       "2732     BANGKOK (Reuters) - Drums and a band played as...\n",
       "Name: text, Length: 31428, dtype: object"
      ]
     },
     "execution_count": 29,
     "metadata": {},
     "output_type": "execute_result"
    }
   ],
   "source": [
    "x_train"
   ]
  },
  {
   "cell_type": "code",
   "execution_count": 30,
   "id": "775659c4",
   "metadata": {},
   "outputs": [
    {
     "data": {
      "text/plain": [
       "35305    While Trump works like crazy to win your vote,...\n",
       "29180    A  We The People  petition was started on July...\n",
       "29805    Dubbed the  missing white voters,  Nate Silver...\n",
       "38237    WASHINGTON (Reuters) - Republican and Democrat...\n",
       "5099     JOHANNESBURG (Reuters) - South Africa s Presid...\n",
       "                               ...                        \n",
       "14185    The Baton Rouge, Louisiana resident  Maine Mus...\n",
       "40424    MOSCOW (Reuters) - Russia s foreign ministry s...\n",
       "22374                                                     \n",
       "18638    LONDON (Reuters) - The chances of Northern Ire...\n",
       "18157    Six more women have come forward to allege tha...\n",
       "Name: text, Length: 13470, dtype: object"
      ]
     },
     "execution_count": 30,
     "metadata": {},
     "output_type": "execute_result"
    }
   ],
   "source": [
    "x_test"
   ]
  },
  {
   "cell_type": "code",
   "execution_count": 31,
   "id": "ab2941b4",
   "metadata": {},
   "outputs": [],
   "source": [
    "#TF-IDF vectors are frequency scores that try to highlight words that are frequent in a document and scores are normalized to values between 0 and 1\n",
    "\n",
    "tfvect=TfidfVectorizer(stop_words='english',max_df=0.7)"
   ]
  },
  {
   "cell_type": "code",
   "execution_count": 32,
   "id": "7213c744",
   "metadata": {},
   "outputs": [],
   "source": [
    "tfid_x_train=tfvect.fit_transform(x_train)\n",
    "tfid_x_test=tfvect.transform(x_test)"
   ]
  },
  {
   "cell_type": "code",
   "execution_count": 33,
   "id": "7e281316",
   "metadata": {},
   "outputs": [
    {
     "data": {
      "text/plain": [
       "PassiveAggressiveClassifier(max_iter=50)"
      ]
     },
     "execution_count": 33,
     "metadata": {},
     "output_type": "execute_result"
    }
   ],
   "source": [
    "#Passive-Agressive Model\n",
    "classifier=PassiveAggressiveClassifier(max_iter=50)\n",
    "classifier.fit(tfid_x_train,y_train)"
   ]
  },
  {
   "cell_type": "code",
   "execution_count": 34,
   "id": "7edd588d",
   "metadata": {},
   "outputs": [
    {
     "name": "stdout",
     "output_type": "stream",
     "text": [
      "Accuracy: 99.19%\n"
     ]
    }
   ],
   "source": [
    "#Accuracy score on training data\n",
    "y_pred = classifier.predict(tfid_x_test)\n",
    "score = accuracy_score(y_test,y_pred)\n",
    "print(f'Accuracy: {round(score*100,2)}%')"
   ]
  },
  {
   "cell_type": "code",
   "execution_count": 35,
   "id": "2473b8a6",
   "metadata": {},
   "outputs": [],
   "source": [
    "#K-Nearest Neighbors Model\n",
    "knn=KNeighborsClassifier(n_neighbors=3)"
   ]
  },
  {
   "cell_type": "code",
   "execution_count": 36,
   "id": "ca5f5349",
   "metadata": {},
   "outputs": [
    {
     "data": {
      "text/plain": [
       "KNeighborsClassifier(n_neighbors=3)"
      ]
     },
     "execution_count": 36,
     "metadata": {},
     "output_type": "execute_result"
    }
   ],
   "source": [
    "knn.fit(tfid_x_train,y_train)"
   ]
  },
  {
   "cell_type": "code",
   "execution_count": 37,
   "id": "87b7cc6f",
   "metadata": {},
   "outputs": [
    {
     "name": "stdout",
     "output_type": "stream",
     "text": [
      "Accuracy: 67.4%\n"
     ]
    }
   ],
   "source": [
    "#Accuracy score on training data\n",
    "y_pred = knn.predict(tfid_x_test)\n",
    "score = accuracy_score(y_test,y_pred)\n",
    "print(f'Accuracy: {round(score*100,2)}%')"
   ]
  },
  {
   "cell_type": "code",
   "execution_count": 38,
   "id": "84d20cbb",
   "metadata": {},
   "outputs": [],
   "source": [
    "#Logictic Regression Model\n",
    "logred=LogisticRegression()"
   ]
  },
  {
   "cell_type": "code",
   "execution_count": 39,
   "id": "25772757",
   "metadata": {},
   "outputs": [
    {
     "data": {
      "text/plain": [
       "LogisticRegression()"
      ]
     },
     "execution_count": 39,
     "metadata": {},
     "output_type": "execute_result"
    }
   ],
   "source": [
    "logred.fit(tfid_x_train,y_train)"
   ]
  },
  {
   "cell_type": "code",
   "execution_count": 40,
   "id": "ca42e3e8",
   "metadata": {},
   "outputs": [
    {
     "name": "stdout",
     "output_type": "stream",
     "text": [
      "Accuracy: 98.38%\n"
     ]
    }
   ],
   "source": [
    "#Accuracy score on training data\n",
    "y_pred = logred.predict(tfid_x_test)\n",
    "score = accuracy_score(y_test,y_pred)\n",
    "print(f'Accuracy: {round(score*100,2)}%')"
   ]
  },
  {
   "cell_type": "code",
   "execution_count": 41,
   "id": "d395f186",
   "metadata": {},
   "outputs": [],
   "source": [
    "from sklearn.ensemble import RandomForestClassifier"
   ]
  },
  {
   "cell_type": "code",
   "execution_count": 42,
   "id": "d9d6142e",
   "metadata": {},
   "outputs": [],
   "source": [
    "#Random Forest Model\n",
    "clf=RandomForestClassifier(n_estimators=100)"
   ]
  },
  {
   "cell_type": "code",
   "execution_count": 43,
   "id": "5df8c3cf",
   "metadata": {},
   "outputs": [
    {
     "data": {
      "text/plain": [
       "RandomForestClassifier()"
      ]
     },
     "execution_count": 43,
     "metadata": {},
     "output_type": "execute_result"
    }
   ],
   "source": [
    "clf.fit(tfid_x_train,y_train)"
   ]
  },
  {
   "cell_type": "code",
   "execution_count": 44,
   "id": "9e56b328",
   "metadata": {},
   "outputs": [
    {
     "name": "stdout",
     "output_type": "stream",
     "text": [
      "Accuracy: 98.74%\n"
     ]
    }
   ],
   "source": [
    "#Accuracy score on training data\n",
    "y_pred = clf.predict(tfid_x_test)\n",
    "score = accuracy_score(y_test,y_pred)\n",
    "print(f'Accuracy: {round(score*100,2)}%')"
   ]
  },
  {
   "cell_type": "code",
   "execution_count": 45,
   "id": "0c5d52a0",
   "metadata": {},
   "outputs": [],
   "source": [
    "from sklearn.tree import DecisionTreeClassifier"
   ]
  },
  {
   "cell_type": "code",
   "execution_count": 46,
   "id": "cc65a438",
   "metadata": {},
   "outputs": [],
   "source": [
    "#Decision Tree Model\n",
    "dtc=DecisionTreeClassifier()"
   ]
  },
  {
   "cell_type": "code",
   "execution_count": 47,
   "id": "ffbb646f",
   "metadata": {},
   "outputs": [],
   "source": [
    "import time"
   ]
  },
  {
   "cell_type": "code",
   "execution_count": 48,
   "id": "c2656280",
   "metadata": {},
   "outputs": [
    {
     "name": "stdout",
     "output_type": "stream",
     "text": [
      "Training time: 50.75519347190857s\n"
     ]
    }
   ],
   "source": [
    "start=time.time()\n",
    "dtc.fit(tfid_x_train,y_train)\n",
    "stop=time.time()\n",
    "print(f\"Training time: {stop - start}s\")"
   ]
  },
  {
   "cell_type": "code",
   "execution_count": 49,
   "id": "50ebd5c1",
   "metadata": {},
   "outputs": [
    {
     "name": "stdout",
     "output_type": "stream",
     "text": [
      "Accuracy: 99.6%\n"
     ]
    }
   ],
   "source": [
    "#Accuracy score on training data\n",
    "y_pred = dtc.predict(tfid_x_test)\n",
    "score = accuracy_score(y_test,y_pred)\n",
    "print(f'Accuracy: {round(score*100,2)}%')"
   ]
  },
  {
   "cell_type": "markdown",
   "id": "072efb7b",
   "metadata": {},
   "source": [
    "### As we have got the best training Accuracy score for Decision Tree Classifier model. We'll be using it as our model for the fake news detector. "
   ]
  },
  {
   "cell_type": "code",
   "execution_count": 50,
   "id": "cab4d105",
   "metadata": {},
   "outputs": [
    {
     "name": "stdout",
     "output_type": "stream",
     "text": [
      "[[7016   35]\n",
      " [  19 6400]]\n"
     ]
    }
   ],
   "source": [
    "#Confusion Matrix\n",
    "cf=confusion_matrix(y_test,y_pred, labels=[0,1])\n",
    "print(cf)"
   ]
  },
  {
   "cell_type": "code",
   "execution_count": 51,
   "id": "86a217f0",
   "metadata": {},
   "outputs": [
    {
     "name": "stdout",
     "output_type": "stream",
     "text": [
      "f1score: 0.99599\n"
     ]
    }
   ],
   "source": [
    "#F1 Score\n",
    "f1score=f1_score(y_test, y_pred,average='weighted')\n",
    "print(f'f1score: {round(f1score,5)}')"
   ]
  },
  {
   "cell_type": "code",
   "execution_count": 52,
   "id": "4b185ce8",
   "metadata": {},
   "outputs": [
    {
     "name": "stdout",
     "output_type": "stream",
     "text": [
      "Precision Score: 0.99599\n"
     ]
    }
   ],
   "source": [
    "#Precision Score\n",
    "precision=precision_score(y_test, y_pred,average='weighted')\n",
    "print(f'Precision Score: {round(f1score,5)}')"
   ]
  },
  {
   "cell_type": "code",
   "execution_count": 53,
   "id": "63caffd4",
   "metadata": {},
   "outputs": [],
   "source": [
    "import pickle\n",
    "pickle.dump(dtc,open('fake_true.pkl', 'wb'))"
   ]
  },
  {
   "cell_type": "code",
   "execution_count": 54,
   "id": "18d74813",
   "metadata": {},
   "outputs": [],
   "source": [
    "loaded_model=pickle.load(open('fake_true.pkl', 'rb'))"
   ]
  },
  {
   "cell_type": "code",
   "execution_count": null,
   "id": "2eaa5d09",
   "metadata": {},
   "outputs": [],
   "source": []
  }
 ],
 "metadata": {
  "kernelspec": {
   "display_name": "Python 3",
   "language": "python",
   "name": "python3"
  },
  "language_info": {
   "codemirror_mode": {
    "name": "ipython",
    "version": 3
   },
   "file_extension": ".py",
   "mimetype": "text/x-python",
   "name": "python",
   "nbconvert_exporter": "python",
   "pygments_lexer": "ipython3",
   "version": "3.8.5"
  }
 },
 "nbformat": 4,
 "nbformat_minor": 5
}
